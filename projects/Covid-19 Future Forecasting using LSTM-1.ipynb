{
 "cells": [
  {
   "cell_type": "code",
   "execution_count": 1,
   "metadata": {},
   "outputs": [],
   "source": [
    "import pandas as pd\n",
    "import numpy as np\n",
    "import matplotlib.pyplot as plt\n",
    "%matplotlib inline"
   ]
  },
  {
   "cell_type": "code",
   "execution_count": 2,
   "metadata": {},
   "outputs": [],
   "source": [
    "import tensorflow as tf"
   ]
  },
  {
   "cell_type": "code",
   "execution_count": 3,
   "metadata": {},
   "outputs": [],
   "source": [
    "df = pd.read_csv('time_series_covid19_confirmed_global.csv')"
   ]
  },
  {
   "cell_type": "code",
   "execution_count": 4,
   "metadata": {},
   "outputs": [
    {
     "name": "stdout",
     "output_type": "stream",
     "text": [
      "<class 'pandas.core.frame.DataFrame'>\n",
      "RangeIndex: 268 entries, 0 to 267\n",
      "Columns: 288 entries, Province/State to 10/31/20\n",
      "dtypes: float64(2), int64(284), object(2)\n",
      "memory usage: 603.1+ KB\n"
     ]
    }
   ],
   "source": [
    "df.info()"
   ]
  },
  {
   "cell_type": "code",
   "execution_count": 5,
   "metadata": {},
   "outputs": [
    {
     "data": {
      "text/html": [
       "<div>\n",
       "<style scoped>\n",
       "    .dataframe tbody tr th:only-of-type {\n",
       "        vertical-align: middle;\n",
       "    }\n",
       "\n",
       "    .dataframe tbody tr th {\n",
       "        vertical-align: top;\n",
       "    }\n",
       "\n",
       "    .dataframe thead th {\n",
       "        text-align: right;\n",
       "    }\n",
       "</style>\n",
       "<table border=\"1\" class=\"dataframe\">\n",
       "  <thead>\n",
       "    <tr style=\"text-align: right;\">\n",
       "      <th></th>\n",
       "      <th>Province/State</th>\n",
       "      <th>Country/Region</th>\n",
       "      <th>Lat</th>\n",
       "      <th>Long</th>\n",
       "      <th>1/22/20</th>\n",
       "      <th>1/23/20</th>\n",
       "      <th>1/24/20</th>\n",
       "      <th>1/25/20</th>\n",
       "      <th>1/26/20</th>\n",
       "      <th>1/27/20</th>\n",
       "      <th>...</th>\n",
       "      <th>10/22/20</th>\n",
       "      <th>10/23/20</th>\n",
       "      <th>10/24/20</th>\n",
       "      <th>10/25/20</th>\n",
       "      <th>10/26/20</th>\n",
       "      <th>10/27/20</th>\n",
       "      <th>10/28/20</th>\n",
       "      <th>10/29/20</th>\n",
       "      <th>10/30/20</th>\n",
       "      <th>10/31/20</th>\n",
       "    </tr>\n",
       "  </thead>\n",
       "  <tbody>\n",
       "    <tr>\n",
       "      <th>0</th>\n",
       "      <td>NaN</td>\n",
       "      <td>Afghanistan</td>\n",
       "      <td>33.93911</td>\n",
       "      <td>67.709953</td>\n",
       "      <td>0</td>\n",
       "      <td>0</td>\n",
       "      <td>0</td>\n",
       "      <td>0</td>\n",
       "      <td>0</td>\n",
       "      <td>0</td>\n",
       "      <td>...</td>\n",
       "      <td>40626</td>\n",
       "      <td>40687</td>\n",
       "      <td>40768</td>\n",
       "      <td>40833</td>\n",
       "      <td>40937</td>\n",
       "      <td>41032</td>\n",
       "      <td>41145</td>\n",
       "      <td>41268</td>\n",
       "      <td>41334</td>\n",
       "      <td>41425</td>\n",
       "    </tr>\n",
       "    <tr>\n",
       "      <th>1</th>\n",
       "      <td>NaN</td>\n",
       "      <td>Albania</td>\n",
       "      <td>41.15330</td>\n",
       "      <td>20.168300</td>\n",
       "      <td>0</td>\n",
       "      <td>0</td>\n",
       "      <td>0</td>\n",
       "      <td>0</td>\n",
       "      <td>0</td>\n",
       "      <td>0</td>\n",
       "      <td>...</td>\n",
       "      <td>18250</td>\n",
       "      <td>18556</td>\n",
       "      <td>18858</td>\n",
       "      <td>19157</td>\n",
       "      <td>19445</td>\n",
       "      <td>19729</td>\n",
       "      <td>20040</td>\n",
       "      <td>20315</td>\n",
       "      <td>20634</td>\n",
       "      <td>20875</td>\n",
       "    </tr>\n",
       "    <tr>\n",
       "      <th>2</th>\n",
       "      <td>NaN</td>\n",
       "      <td>Algeria</td>\n",
       "      <td>28.03390</td>\n",
       "      <td>1.659600</td>\n",
       "      <td>0</td>\n",
       "      <td>0</td>\n",
       "      <td>0</td>\n",
       "      <td>0</td>\n",
       "      <td>0</td>\n",
       "      <td>0</td>\n",
       "      <td>...</td>\n",
       "      <td>55357</td>\n",
       "      <td>55630</td>\n",
       "      <td>55880</td>\n",
       "      <td>56143</td>\n",
       "      <td>56419</td>\n",
       "      <td>56706</td>\n",
       "      <td>57026</td>\n",
       "      <td>57332</td>\n",
       "      <td>57651</td>\n",
       "      <td>57942</td>\n",
       "    </tr>\n",
       "    <tr>\n",
       "      <th>3</th>\n",
       "      <td>NaN</td>\n",
       "      <td>Andorra</td>\n",
       "      <td>42.50630</td>\n",
       "      <td>1.521800</td>\n",
       "      <td>0</td>\n",
       "      <td>0</td>\n",
       "      <td>0</td>\n",
       "      <td>0</td>\n",
       "      <td>0</td>\n",
       "      <td>0</td>\n",
       "      <td>...</td>\n",
       "      <td>3811</td>\n",
       "      <td>4038</td>\n",
       "      <td>4038</td>\n",
       "      <td>4038</td>\n",
       "      <td>4325</td>\n",
       "      <td>4410</td>\n",
       "      <td>4517</td>\n",
       "      <td>4567</td>\n",
       "      <td>4665</td>\n",
       "      <td>4756</td>\n",
       "    </tr>\n",
       "    <tr>\n",
       "      <th>4</th>\n",
       "      <td>NaN</td>\n",
       "      <td>Angola</td>\n",
       "      <td>-11.20270</td>\n",
       "      <td>17.873900</td>\n",
       "      <td>0</td>\n",
       "      <td>0</td>\n",
       "      <td>0</td>\n",
       "      <td>0</td>\n",
       "      <td>0</td>\n",
       "      <td>0</td>\n",
       "      <td>...</td>\n",
       "      <td>8582</td>\n",
       "      <td>8829</td>\n",
       "      <td>9026</td>\n",
       "      <td>9381</td>\n",
       "      <td>9644</td>\n",
       "      <td>9871</td>\n",
       "      <td>10074</td>\n",
       "      <td>10269</td>\n",
       "      <td>10558</td>\n",
       "      <td>10805</td>\n",
       "    </tr>\n",
       "  </tbody>\n",
       "</table>\n",
       "<p>5 rows × 288 columns</p>\n",
       "</div>"
      ],
      "text/plain": [
       "  Province/State Country/Region       Lat       Long  1/22/20  1/23/20  \\\n",
       "0            NaN    Afghanistan  33.93911  67.709953        0        0   \n",
       "1            NaN        Albania  41.15330  20.168300        0        0   \n",
       "2            NaN        Algeria  28.03390   1.659600        0        0   \n",
       "3            NaN        Andorra  42.50630   1.521800        0        0   \n",
       "4            NaN         Angola -11.20270  17.873900        0        0   \n",
       "\n",
       "   1/24/20  1/25/20  1/26/20  1/27/20  ...  10/22/20  10/23/20  10/24/20  \\\n",
       "0        0        0        0        0  ...     40626     40687     40768   \n",
       "1        0        0        0        0  ...     18250     18556     18858   \n",
       "2        0        0        0        0  ...     55357     55630     55880   \n",
       "3        0        0        0        0  ...      3811      4038      4038   \n",
       "4        0        0        0        0  ...      8582      8829      9026   \n",
       "\n",
       "   10/25/20  10/26/20  10/27/20  10/28/20  10/29/20  10/30/20  10/31/20  \n",
       "0     40833     40937     41032     41145     41268     41334     41425  \n",
       "1     19157     19445     19729     20040     20315     20634     20875  \n",
       "2     56143     56419     56706     57026     57332     57651     57942  \n",
       "3      4038      4325      4410      4517      4567      4665      4756  \n",
       "4      9381      9644      9871     10074     10269     10558     10805  \n",
       "\n",
       "[5 rows x 288 columns]"
      ]
     },
     "execution_count": 5,
     "metadata": {},
     "output_type": "execute_result"
    }
   ],
   "source": [
    "df.head()"
   ]
  },
  {
   "cell_type": "code",
   "execution_count": 6,
   "metadata": {},
   "outputs": [
    {
     "data": {
      "text/plain": [
       "Province/State        NaN\n",
       "Country/Region      India\n",
       "Lat               20.5937\n",
       "Long              78.9629\n",
       "1/22/20                 0\n",
       "                   ...   \n",
       "10/27/20          7990322\n",
       "10/28/20          8040203\n",
       "10/29/20          8088851\n",
       "10/30/20          8137119\n",
       "10/31/20          8184082\n",
       "Name: 143, Length: 288, dtype: object"
      ]
     },
     "execution_count": 6,
     "metadata": {},
     "output_type": "execute_result"
    }
   ],
   "source": [
    "df.iloc[143, :]"
   ]
  },
  {
   "cell_type": "code",
   "execution_count": 7,
   "metadata": {},
   "outputs": [],
   "source": [
    "data = df.iloc[143,:].values"
   ]
  },
  {
   "cell_type": "code",
   "execution_count": 8,
   "metadata": {},
   "outputs": [
    {
     "name": "stdout",
     "output_type": "stream",
     "text": [
      "[nan 'India' 20.593684 78.96288 0 0 0 0 0 0 0 0]\n"
     ]
    }
   ],
   "source": [
    "print(data[:12])"
   ]
  },
  {
   "cell_type": "code",
   "execution_count": 9,
   "metadata": {},
   "outputs": [
    {
     "name": "stdout",
     "output_type": "stream",
     "text": [
      "[0 0 0 0 0 0 0 0 1]\n"
     ]
    }
   ],
   "source": [
    "data = data[4:-1]\n",
    "print(data[:9])"
   ]
  },
  {
   "cell_type": "code",
   "execution_count": 10,
   "metadata": {},
   "outputs": [
    {
     "name": "stdout",
     "output_type": "stream",
     "text": [
      "[[0]\n",
      " [0]\n",
      " [0]\n",
      " [0]\n",
      " [0]\n",
      " [0]\n",
      " [0]\n",
      " [1]\n",
      " [1]\n",
      " [1]]\n"
     ]
    }
   ],
   "source": [
    "data = data.reshape(len(data),1)\n",
    "print(data[1:11])"
   ]
  },
  {
   "cell_type": "code",
   "execution_count": 11,
   "metadata": {},
   "outputs": [
    {
     "data": {
      "text/html": [
       "<div>\n",
       "<style scoped>\n",
       "    .dataframe tbody tr th:only-of-type {\n",
       "        vertical-align: middle;\n",
       "    }\n",
       "\n",
       "    .dataframe tbody tr th {\n",
       "        vertical-align: top;\n",
       "    }\n",
       "\n",
       "    .dataframe thead th {\n",
       "        text-align: right;\n",
       "    }\n",
       "</style>\n",
       "<table border=\"1\" class=\"dataframe\">\n",
       "  <thead>\n",
       "    <tr style=\"text-align: right;\">\n",
       "      <th></th>\n",
       "      <th>0</th>\n",
       "    </tr>\n",
       "  </thead>\n",
       "  <tbody>\n",
       "    <tr>\n",
       "      <th>0</th>\n",
       "      <td>0</td>\n",
       "    </tr>\n",
       "    <tr>\n",
       "      <th>1</th>\n",
       "      <td>0</td>\n",
       "    </tr>\n",
       "    <tr>\n",
       "      <th>2</th>\n",
       "      <td>0</td>\n",
       "    </tr>\n",
       "    <tr>\n",
       "      <th>3</th>\n",
       "      <td>0</td>\n",
       "    </tr>\n",
       "    <tr>\n",
       "      <th>4</th>\n",
       "      <td>0</td>\n",
       "    </tr>\n",
       "    <tr>\n",
       "      <th>...</th>\n",
       "      <td>...</td>\n",
       "    </tr>\n",
       "    <tr>\n",
       "      <th>278</th>\n",
       "      <td>7946429</td>\n",
       "    </tr>\n",
       "    <tr>\n",
       "      <th>279</th>\n",
       "      <td>7990322</td>\n",
       "    </tr>\n",
       "    <tr>\n",
       "      <th>280</th>\n",
       "      <td>8040203</td>\n",
       "    </tr>\n",
       "    <tr>\n",
       "      <th>281</th>\n",
       "      <td>8088851</td>\n",
       "    </tr>\n",
       "    <tr>\n",
       "      <th>282</th>\n",
       "      <td>8137119</td>\n",
       "    </tr>\n",
       "  </tbody>\n",
       "</table>\n",
       "<p>283 rows × 1 columns</p>\n",
       "</div>"
      ],
      "text/plain": [
       "           0\n",
       "0          0\n",
       "1          0\n",
       "2          0\n",
       "3          0\n",
       "4          0\n",
       "..       ...\n",
       "278  7946429\n",
       "279  7990322\n",
       "280  8040203\n",
       "281  8088851\n",
       "282  8137119\n",
       "\n",
       "[283 rows x 1 columns]"
      ]
     },
     "execution_count": 11,
     "metadata": {},
     "output_type": "execute_result"
    }
   ],
   "source": [
    "d = pd.DataFrame(data)\n",
    "d"
   ]
  },
  {
   "cell_type": "code",
   "execution_count": 12,
   "metadata": {},
   "outputs": [
    {
     "data": {
      "text/plain": [
       "Text(0.5, 1.0, 'Total number of Covid-19 cases in India')"
      ]
     },
     "execution_count": 12,
     "metadata": {},
     "output_type": "execute_result"
    },
    {
     "data": {
      "image/png": "[encoded data removed]",
      "text/plain": [
       "<Figure size 432x288 with 1 Axes>"
      ]
     },
     "metadata": {
      "needs_background": "light"
     },
     "output_type": "display_data"
    }
   ],
   "source": [
    "plt.plot(data,color='red')\n",
    "plt.title(\"Total number of Covid-19 cases in India\")\n"
   ]
  },
  {
   "cell_type": "code",
   "execution_count": 13,
   "metadata": {},
   "outputs": [],
   "source": [
    "cd=[]\n",
    "for i in range(0,282):\n",
    "    a=data[i+1] - data[i]\n",
    "    cd.append(a)\n",
    "cd = np.array(cd)   \n",
    "    "
   ]
  },
  {
   "cell_type": "code",
   "execution_count": 14,
   "metadata": {},
   "outputs": [
    {
     "data": {
      "text/plain": [
       "array([[0],\n",
       "       [0],\n",
       "       [0],\n",
       "       [0],\n",
       "       [0],\n",
       "       [0],\n",
       "       [0],\n",
       "       [1],\n",
       "       [0],\n",
       "       [0],\n",
       "       [1],\n",
       "       [1],\n",
       "       [0],\n",
       "       [0],\n",
       "       [0],\n",
       "       [0],\n",
       "       [0],\n",
       "       [0],\n",
       "       [0],\n",
       "       [0],\n",
       "       [0],\n",
       "       [0],\n",
       "       [0],\n",
       "       [0],\n",
       "       [0],\n",
       "       [0],\n",
       "       [0],\n",
       "       [0],\n",
       "       [0],\n",
       "       [0],\n",
       "       [0],\n",
       "       [0],\n",
       "       [0],\n",
       "       [0],\n",
       "       [0],\n",
       "       [0],\n",
       "       [0],\n",
       "       [0],\n",
       "       [0],\n",
       "       [2],\n",
       "       [0],\n",
       "       [23],\n",
       "       [2],\n",
       "       [1],\n",
       "       [3],\n",
       "       [5],\n",
       "       [4],\n",
       "       [13],\n",
       "       [6],\n",
       "       [11],\n",
       "       [9],\n",
       "       [20],\n",
       "       [11],\n",
       "       [6],\n",
       "       [23],\n",
       "       [14],\n",
       "       [38],\n",
       "       [50],\n",
       "       [86],\n",
       "       [66],\n",
       "       [103],\n",
       "       [37],\n",
       "       [121],\n",
       "       [70],\n",
       "       [160],\n",
       "       [100],\n",
       "       [37],\n",
       "       [227],\n",
       "       [146],\n",
       "       [601],\n",
       "       [545],\n",
       "       [24],\n",
       "       [515],\n",
       "       [506],\n",
       "       [1190],\n",
       "       [533],\n",
       "       [605],\n",
       "       [809],\n",
       "       [873],\n",
       "       [848],\n",
       "       [759],\n",
       "       [1248],\n",
       "       [1034],\n",
       "       [835],\n",
       "       [1108],\n",
       "       [922],\n",
       "       [1370],\n",
       "       [1893],\n",
       "       [924],\n",
       "       [1541],\n",
       "       [1290],\n",
       "       [1707],\n",
       "       [1453],\n",
       "       [1753],\n",
       "       [1607],\n",
       "       [1561],\n",
       "       [1873],\n",
       "       [1738],\n",
       "       [1801],\n",
       "       [2394],\n",
       "       [2442],\n",
       "       [2806],\n",
       "       [3932],\n",
       "       [2963],\n",
       "       [3587],\n",
       "       [3364],\n",
       "       [3344],\n",
       "       [3113],\n",
       "       [4353],\n",
       "       [3607],\n",
       "       [3524],\n",
       "       [3763],\n",
       "       [3942],\n",
       "       [3787],\n",
       "       [4864],\n",
       "       [5050],\n",
       "       [4630],\n",
       "       [6147],\n",
       "       [5553],\n",
       "       [6198],\n",
       "       [6568],\n",
       "       [6629],\n",
       "       [7113],\n",
       "       [6414],\n",
       "       [5843],\n",
       "       [7293],\n",
       "       [7300],\n",
       "       [8105],\n",
       "       [8336],\n",
       "       [8782],\n",
       "       [7761],\n",
       "       [8821],\n",
       "       [9633],\n",
       "       [9889],\n",
       "       [9471],\n",
       "       [10438],\n",
       "       [10864],\n",
       "       [8442],\n",
       "       [10218],\n",
       "       [10459],\n",
       "       [10930],\n",
       "       [11458],\n",
       "       [11929],\n",
       "       [11502],\n",
       "       [10667],\n",
       "       [10974],\n",
       "       [12881],\n",
       "       [13586],\n",
       "       [14516],\n",
       "       [15403],\n",
       "       [14831],\n",
       "       [14933],\n",
       "       [15968],\n",
       "       [16922],\n",
       "       [17296],\n",
       "       [18552],\n",
       "       [19906],\n",
       "       [19459],\n",
       "       [18522],\n",
       "       [18641],\n",
       "       [19160],\n",
       "       [20903],\n",
       "       [22771],\n",
       "       [24850],\n",
       "       [24248],\n",
       "       [22251],\n",
       "       [22753],\n",
       "       [24879],\n",
       "       [26506],\n",
       "       [27114],\n",
       "       [28606],\n",
       "       [28732],\n",
       "       [28498],\n",
       "       [29429],\n",
       "       [32676],\n",
       "       [34975],\n",
       "       [35252],\n",
       "       [38697],\n",
       "       [40425],\n",
       "       [37132],\n",
       "       [37740],\n",
       "       [45720],\n",
       "       [49310],\n",
       "       [48916],\n",
       "       [48611],\n",
       "       [49981],\n",
       "       [44457],\n",
       "       [51596],\n",
       "       [50294],\n",
       "       [52783],\n",
       "       [61242],\n",
       "       [54735],\n",
       "       [52972],\n",
       "       [52050],\n",
       "       [52509],\n",
       "       [56282],\n",
       "       [62538],\n",
       "       [61537],\n",
       "       [64399],\n",
       "       [62064],\n",
       "       [53601],\n",
       "       [60963],\n",
       "       [66999],\n",
       "       [64553],\n",
       "       [64732],\n",
       "       [64030],\n",
       "       [57711],\n",
       "       [55018],\n",
       "       [64572],\n",
       "       [69672],\n",
       "       [68900],\n",
       "       [69876],\n",
       "       [69239],\n",
       "       [61408],\n",
       "       [60975],\n",
       "       [57224],\n",
       "       [85687],\n",
       "       [77266],\n",
       "       [76472],\n",
       "       [78761],\n",
       "       [78512],\n",
       "       [69921],\n",
       "       [78357],\n",
       "       [83883],\n",
       "       [83341],\n",
       "       [86432],\n",
       "       [90632],\n",
       "       [90802],\n",
       "       [75809],\n",
       "       [89706],\n",
       "       [95735],\n",
       "       [96551],\n",
       "       [97570],\n",
       "       [94372],\n",
       "       [92071],\n",
       "       [83809],\n",
       "       [90123],\n",
       "       [97894],\n",
       "       [96424],\n",
       "       [93337],\n",
       "       [92605],\n",
       "       [86961],\n",
       "       [75083],\n",
       "       [83347],\n",
       "       [86508],\n",
       "       [86052],\n",
       "       [85362],\n",
       "       [88600],\n",
       "       [82170],\n",
       "       [70589],\n",
       "       [80472],\n",
       "       [86821],\n",
       "       [81484],\n",
       "       [79476],\n",
       "       [75829],\n",
       "       [74442],\n",
       "       [61267],\n",
       "       [72049],\n",
       "       [78524],\n",
       "       [70496],\n",
       "       [73272],\n",
       "       [74383],\n",
       "       [66732],\n",
       "       [55342],\n",
       "       [63509],\n",
       "       [67708],\n",
       "       [63371],\n",
       "       [62212],\n",
       "       [61871],\n",
       "       [55722],\n",
       "       [46790],\n",
       "       [54044],\n",
       "       [55839],\n",
       "       [54366],\n",
       "       [53370],\n",
       "       [50129],\n",
       "       [45148],\n",
       "       [36470],\n",
       "       [43893],\n",
       "       [49881],\n",
       "       [48648],\n",
       "       [48268]], dtype=object)"
      ]
     },
     "execution_count": 14,
     "metadata": {},
     "output_type": "execute_result"
    }
   ],
   "source": [
    "cd"
   ]
  },
  {
   "cell_type": "code",
   "execution_count": 15,
   "metadata": {},
   "outputs": [
    {
     "data": {
      "text/plain": [
       "Text(0.5, 1.0, 'Total number of daily registered Covid-19 cases in India')"
      ]
     },
     "execution_count": 15,
     "metadata": {},
     "output_type": "execute_result"
    },
    {
     "data": {
      "image/png": "[encoded data removed]",
      "text/plain": [
       "<Figure size 432x288 with 1 Axes>"
      ]
     },
     "metadata": {
      "needs_background": "light"
     },
     "output_type": "display_data"
    }
   ],
   "source": [
    "plt.plot(cd,color='red')\n",
    "plt.title(\"Total number of daily registered Covid-19 cases in India\")\n"
   ]
  },
  {
   "cell_type": "markdown",
   "metadata": {},
   "source": [
    "# Splitting dataset "
   ]
  },
  {
   "cell_type": "code",
   "execution_count": 16,
   "metadata": {},
   "outputs": [],
   "source": [
    "testcd = cd[len(cd)-20:]\n",
    "testcd = np.array(testcd)\n"
   ]
  },
  {
   "cell_type": "code",
   "execution_count": 17,
   "metadata": {},
   "outputs": [
    {
     "data": {
      "text/plain": [
       "array([[66732],\n",
       "       [55342],\n",
       "       [63509],\n",
       "       [67708],\n",
       "       [63371],\n",
       "       [62212],\n",
       "       [61871],\n",
       "       [55722],\n",
       "       [46790],\n",
       "       [54044],\n",
       "       [55839],\n",
       "       [54366],\n",
       "       [53370],\n",
       "       [50129],\n",
       "       [45148],\n",
       "       [36470],\n",
       "       [43893],\n",
       "       [49881],\n",
       "       [48648],\n",
       "       [48268]], dtype=object)"
      ]
     },
     "execution_count": 17,
     "metadata": {},
     "output_type": "execute_result"
    }
   ],
   "source": [
    "testcd"
   ]
  },
  {
   "cell_type": "code",
   "execution_count": 18,
   "metadata": {},
   "outputs": [
    {
     "data": {
      "text/plain": [
       "array([[0],\n",
       "       [0],\n",
       "       [0],\n",
       "       [0],\n",
       "       [0],\n",
       "       [0],\n",
       "       [0],\n",
       "       [1],\n",
       "       [0],\n",
       "       [0],\n",
       "       [1],\n",
       "       [1],\n",
       "       [0],\n",
       "       [0],\n",
       "       [0],\n",
       "       [0],\n",
       "       [0],\n",
       "       [0],\n",
       "       [0],\n",
       "       [0],\n",
       "       [0],\n",
       "       [0],\n",
       "       [0],\n",
       "       [0],\n",
       "       [0],\n",
       "       [0],\n",
       "       [0],\n",
       "       [0],\n",
       "       [0],\n",
       "       [0],\n",
       "       [0],\n",
       "       [0],\n",
       "       [0],\n",
       "       [0],\n",
       "       [0],\n",
       "       [0],\n",
       "       [0],\n",
       "       [0],\n",
       "       [0],\n",
       "       [2],\n",
       "       [0],\n",
       "       [23],\n",
       "       [2],\n",
       "       [1],\n",
       "       [3],\n",
       "       [5],\n",
       "       [4],\n",
       "       [13],\n",
       "       [6],\n",
       "       [11],\n",
       "       [9],\n",
       "       [20],\n",
       "       [11],\n",
       "       [6],\n",
       "       [23],\n",
       "       [14],\n",
       "       [38],\n",
       "       [50],\n",
       "       [86],\n",
       "       [66],\n",
       "       [103],\n",
       "       [37],\n",
       "       [121],\n",
       "       [70],\n",
       "       [160],\n",
       "       [100],\n",
       "       [37],\n",
       "       [227],\n",
       "       [146],\n",
       "       [601],\n",
       "       [545],\n",
       "       [24],\n",
       "       [515],\n",
       "       [506],\n",
       "       [1190],\n",
       "       [533],\n",
       "       [605],\n",
       "       [809],\n",
       "       [873],\n",
       "       [848],\n",
       "       [759],\n",
       "       [1248],\n",
       "       [1034],\n",
       "       [835],\n",
       "       [1108],\n",
       "       [922],\n",
       "       [1370],\n",
       "       [1893],\n",
       "       [924],\n",
       "       [1541],\n",
       "       [1290],\n",
       "       [1707],\n",
       "       [1453],\n",
       "       [1753],\n",
       "       [1607],\n",
       "       [1561],\n",
       "       [1873],\n",
       "       [1738],\n",
       "       [1801],\n",
       "       [2394],\n",
       "       [2442],\n",
       "       [2806],\n",
       "       [3932],\n",
       "       [2963],\n",
       "       [3587],\n",
       "       [3364],\n",
       "       [3344],\n",
       "       [3113],\n",
       "       [4353],\n",
       "       [3607],\n",
       "       [3524],\n",
       "       [3763],\n",
       "       [3942],\n",
       "       [3787],\n",
       "       [4864],\n",
       "       [5050],\n",
       "       [4630],\n",
       "       [6147],\n",
       "       [5553],\n",
       "       [6198],\n",
       "       [6568],\n",
       "       [6629],\n",
       "       [7113],\n",
       "       [6414],\n",
       "       [5843],\n",
       "       [7293],\n",
       "       [7300],\n",
       "       [8105],\n",
       "       [8336],\n",
       "       [8782],\n",
       "       [7761],\n",
       "       [8821],\n",
       "       [9633],\n",
       "       [9889],\n",
       "       [9471],\n",
       "       [10438],\n",
       "       [10864],\n",
       "       [8442],\n",
       "       [10218],\n",
       "       [10459],\n",
       "       [10930],\n",
       "       [11458],\n",
       "       [11929],\n",
       "       [11502],\n",
       "       [10667],\n",
       "       [10974],\n",
       "       [12881],\n",
       "       [13586],\n",
       "       [14516],\n",
       "       [15403],\n",
       "       [14831],\n",
       "       [14933],\n",
       "       [15968],\n",
       "       [16922],\n",
       "       [17296],\n",
       "       [18552],\n",
       "       [19906],\n",
       "       [19459],\n",
       "       [18522],\n",
       "       [18641],\n",
       "       [19160],\n",
       "       [20903],\n",
       "       [22771],\n",
       "       [24850],\n",
       "       [24248],\n",
       "       [22251],\n",
       "       [22753],\n",
       "       [24879],\n",
       "       [26506],\n",
       "       [27114],\n",
       "       [28606],\n",
       "       [28732],\n",
       "       [28498],\n",
       "       [29429],\n",
       "       [32676],\n",
       "       [34975],\n",
       "       [35252],\n",
       "       [38697],\n",
       "       [40425],\n",
       "       [37132],\n",
       "       [37740],\n",
       "       [45720],\n",
       "       [49310],\n",
       "       [48916],\n",
       "       [48611],\n",
       "       [49981],\n",
       "       [44457],\n",
       "       [51596],\n",
       "       [50294],\n",
       "       [52783],\n",
       "       [61242],\n",
       "       [54735],\n",
       "       [52972],\n",
       "       [52050],\n",
       "       [52509],\n",
       "       [56282],\n",
       "       [62538],\n",
       "       [61537],\n",
       "       [64399],\n",
       "       [62064],\n",
       "       [53601],\n",
       "       [60963],\n",
       "       [66999],\n",
       "       [64553],\n",
       "       [64732],\n",
       "       [64030],\n",
       "       [57711],\n",
       "       [55018],\n",
       "       [64572],\n",
       "       [69672],\n",
       "       [68900],\n",
       "       [69876],\n",
       "       [69239],\n",
       "       [61408],\n",
       "       [60975],\n",
       "       [57224],\n",
       "       [85687],\n",
       "       [77266],\n",
       "       [76472],\n",
       "       [78761],\n",
       "       [78512],\n",
       "       [69921],\n",
       "       [78357],\n",
       "       [83883],\n",
       "       [83341],\n",
       "       [86432],\n",
       "       [90632],\n",
       "       [90802],\n",
       "       [75809],\n",
       "       [89706],\n",
       "       [95735],\n",
       "       [96551],\n",
       "       [97570],\n",
       "       [94372],\n",
       "       [92071],\n",
       "       [83809],\n",
       "       [90123],\n",
       "       [97894],\n",
       "       [96424],\n",
       "       [93337],\n",
       "       [92605],\n",
       "       [86961],\n",
       "       [75083],\n",
       "       [83347],\n",
       "       [86508],\n",
       "       [86052],\n",
       "       [85362],\n",
       "       [88600],\n",
       "       [82170],\n",
       "       [70589],\n",
       "       [80472],\n",
       "       [86821],\n",
       "       [81484],\n",
       "       [79476],\n",
       "       [75829],\n",
       "       [74442],\n",
       "       [61267],\n",
       "       [72049],\n",
       "       [78524],\n",
       "       [70496],\n",
       "       [73272],\n",
       "       [74383],\n",
       "       [66732],\n",
       "       [55342],\n",
       "       [63509],\n",
       "       [67708],\n",
       "       [63371],\n",
       "       [62212],\n",
       "       [61871],\n",
       "       [55722],\n",
       "       [46790],\n",
       "       [54044]], dtype=object)"
      ]
     },
     "execution_count": 18,
     "metadata": {},
     "output_type": "execute_result"
    }
   ],
   "source": [
    "traincd = cd[:-10]\n",
    "traincd = np.array(traincd)\n",
    "traincd"
   ]
  },
  {
   "cell_type": "code",
   "execution_count": 19,
   "metadata": {},
   "outputs": [],
   "source": [
    "from sklearn.preprocessing import MinMaxScaler\n",
    "mms = MinMaxScaler(feature_range=(0,1))\n",
    "traincd = mms.fit_transform(traincd)"
   ]
  },
  {
   "cell_type": "markdown",
   "metadata": {},
   "source": [
    "# Creating a dataset with 10 timesteps and 1 output"
   ]
  },
  {
   "cell_type": "code",
   "execution_count": 20,
   "metadata": {},
   "outputs": [],
   "source": [
    "X_train =[]\n",
    "y_train =[]\n",
    "for i in range(10,272):\n",
    "    X_train.append(traincd[i-10:i,0])\n",
    "    y_train.append(traincd[i,0])\n",
    "X_train,y_train = np.array(X_train),np.array(y_train)    "
   ]
  },
  {
   "cell_type": "markdown",
   "metadata": {},
   "source": [
    "## Reshaping into 3 Dimension"
   ]
  },
  {
   "cell_type": "code",
   "execution_count": 21,
   "metadata": {},
   "outputs": [],
   "source": [
    "X_train = np.reshape(X_train,(X_train.shape[0],X_train.shape[1],1))"
   ]
  },
  {
   "cell_type": "markdown",
   "metadata": {},
   "source": [
    "# Building RNN"
   ]
  },
  {
   "cell_type": "code",
   "execution_count": 22,
   "metadata": {},
   "outputs": [],
   "source": [
    "RNN = tf.keras.models.Sequential()"
   ]
  },
  {
   "cell_type": "markdown",
   "metadata": {},
   "source": [
    "## 1st Layer"
   ]
  },
  {
   "cell_type": "code",
   "execution_count": 23,
   "metadata": {},
   "outputs": [],
   "source": [
    "RNN.add(tf.keras.layers.LSTM(units=10,return_sequences= True, input_shape =(X_train.shape[1],1)))\n",
    "RNN.add(tf.keras.layers.Dropout(0.2))"
   ]
  },
  {
   "cell_type": "markdown",
   "metadata": {},
   "source": [
    "## 2nd Layer"
   ]
  },
  {
   "cell_type": "code",
   "execution_count": 24,
   "metadata": {},
   "outputs": [],
   "source": [
    "RNN.add(tf.keras.layers.LSTM(units=10,return_sequences= True))\n",
    "RNN.add(tf.keras.layers.Dropout(0.2))"
   ]
  },
  {
   "cell_type": "markdown",
   "metadata": {},
   "source": [
    "## 3rd Layer"
   ]
  },
  {
   "cell_type": "code",
   "execution_count": 25,
   "metadata": {},
   "outputs": [],
   "source": [
    "RNN.add(tf.keras.layers.LSTM(units=10,return_sequences= True))\n",
    "RNN.add(tf.keras.layers.Dropout(0.2))"
   ]
  },
  {
   "cell_type": "markdown",
   "metadata": {},
   "source": [
    "## 4th Layer"
   ]
  },
  {
   "cell_type": "code",
   "execution_count": 26,
   "metadata": {},
   "outputs": [],
   "source": [
    "RNN.add(tf.keras.layers.LSTM(units=10))\n",
    "RNN.add(tf.keras.layers.Dropout(0.2))"
   ]
  },
  {
   "cell_type": "markdown",
   "metadata": {},
   "source": [
    "## Output Layer"
   ]
  },
  {
   "cell_type": "code",
   "execution_count": 27,
   "metadata": {},
   "outputs": [],
   "source": [
    "RNN.add(tf.keras.layers.Dense(units=1))"
   ]
  },
  {
   "cell_type": "markdown",
   "metadata": {},
   "source": [
    "## Compiling the RNN"
   ]
  },
  {
   "cell_type": "code",
   "execution_count": 28,
   "metadata": {},
   "outputs": [],
   "source": [
    "RNN.compile(optimizer= 'adam',loss='mean_squared_error')"
   ]
  },
  {
   "cell_type": "code",
   "execution_count": 29,
   "metadata": {},
   "outputs": [
    {
     "name": "stdout",
     "output_type": "stream",
     "text": [
      "Train on 262 samples\n",
      "Epoch 1/10\n",
      "262/262 [==============================] - 10s 40ms/sample - loss: 0.1923\n",
      "Epoch 2/10\n",
      "262/262 [==============================] - 0s 1ms/sample - loss: 0.1610\n",
      "Epoch 3/10\n",
      "262/262 [==============================] - 0s 1ms/sample - loss: 0.1300\n",
      "Epoch 4/10\n",
      "262/262 [==============================] - 0s 1ms/sample - loss: 0.1001\n",
      "Epoch 5/10\n",
      "262/262 [==============================] - 0s 1ms/sample - loss: 0.0814\n",
      "Epoch 6/10\n",
      "262/262 [==============================] - 0s 1ms/sample - loss: 0.0546\n",
      "Epoch 7/10\n",
      "262/262 [==============================] - 0s 1ms/sample - loss: 0.0296\n",
      "Epoch 8/10\n",
      "262/262 [==============================] - 0s 1ms/sample - loss: 0.0179\n",
      "Epoch 9/10\n",
      "262/262 [==============================] - 0s 1ms/sample - loss: 0.0127\n",
      "Epoch 10/10\n",
      "262/262 [==============================] - 0s 1ms/sample - loss: 0.0143\n"
     ]
    },
    {
     "data": {
      "text/plain": [
       "<tensorflow.python.keras.callbacks.History at 0x1887f809e88>"
      ]
     },
     "execution_count": 29,
     "metadata": {},
     "output_type": "execute_result"
    }
   ],
   "source": [
    "RNN.fit(X_train,y_train,epochs=10,batch_size=32)"
   ]
  },
  {
   "cell_type": "markdown",
   "metadata": {},
   "source": [
    "# Making the prediction and Visualization"
   ]
  },
  {
   "cell_type": "code",
   "execution_count": 30,
   "metadata": {},
   "outputs": [
    {
     "data": {
      "text/plain": [
       "array([[66732],\n",
       "       [55342],\n",
       "       [63509],\n",
       "       [67708],\n",
       "       [63371],\n",
       "       [62212],\n",
       "       [61871],\n",
       "       [55722],\n",
       "       [46790],\n",
       "       [54044],\n",
       "       [55839],\n",
       "       [54366],\n",
       "       [53370],\n",
       "       [50129],\n",
       "       [45148],\n",
       "       [36470],\n",
       "       [43893],\n",
       "       [49881],\n",
       "       [48648],\n",
       "       [48268]], dtype=object)"
      ]
     },
     "execution_count": 30,
     "metadata": {},
     "output_type": "execute_result"
    }
   ],
   "source": [
    "testcd1 = testcd.reshape(-1,1)\n",
    "testcd1"
   ]
  },
  {
   "cell_type": "code",
   "execution_count": 31,
   "metadata": {},
   "outputs": [
    {
     "data": {
      "text/plain": [
       "array([[0.6816761 ],\n",
       "       [0.56532576],\n",
       "       [0.64875273],\n",
       "       [0.69164607],\n",
       "       [0.64734304],\n",
       "       [0.63550371],\n",
       "       [0.63202035],\n",
       "       [0.56920751],\n",
       "       [0.47796596],\n",
       "       [0.55206652],\n",
       "       [0.57040268],\n",
       "       [0.55535579],\n",
       "       [0.54518152],\n",
       "       [0.51207428],\n",
       "       [0.46119272],\n",
       "       [0.37254581],\n",
       "       [0.44837273],\n",
       "       [0.50954093],\n",
       "       [0.49694568],\n",
       "       [0.49306393]])"
      ]
     },
     "execution_count": 31,
     "metadata": {},
     "output_type": "execute_result"
    }
   ],
   "source": [
    "testcd1 = mms.transform(testcd1)\n",
    "testcd1"
   ]
  },
  {
   "cell_type": "code",
   "execution_count": 32,
   "metadata": {},
   "outputs": [],
   "source": [
    "X_test =[]\n",
    "for i in range(10,20):\n",
    "    X_test.append(testcd1[i-10:i,0])\n",
    "X_test = np.array(X_test)    "
   ]
  },
  {
   "cell_type": "code",
   "execution_count": 33,
   "metadata": {},
   "outputs": [],
   "source": [
    "X_test = np.reshape(X_test,(X_test.shape[0],X_test.shape[1],1))"
   ]
  },
  {
   "cell_type": "code",
   "execution_count": 34,
   "metadata": {},
   "outputs": [
    {
     "data": {
      "text/plain": [
       "array([[55839],\n",
       "       [54366],\n",
       "       [53370],\n",
       "       [50129],\n",
       "       [45148],\n",
       "       [36470],\n",
       "       [43893],\n",
       "       [49881],\n",
       "       [48648],\n",
       "       [48268]], dtype=object)"
      ]
     },
     "execution_count": 34,
     "metadata": {},
     "output_type": "execute_result"
    }
   ],
   "source": [
    "predicted = RNN.predict(X_test)\n",
    "predicted = mms.inverse_transform(predicted)\n",
    "testcd = testcd[10:]\n",
    "testcd = np.array(testcd)\n",
    "testcd\n"
   ]
  },
  {
   "cell_type": "code",
   "execution_count": 35,
   "metadata": {},
   "outputs": [
    {
     "data": {
      "text/plain": [
       "array([[65182.94 ],\n",
       "       [63805.254],\n",
       "       [65153.742],\n",
       "       [64215.234],\n",
       "       [61691.816],\n",
       "       [59743.613],\n",
       "       [57593.367],\n",
       "       [55015.16 ],\n",
       "       [53727.926],\n",
       "       [54768.723]], dtype=float32)"
      ]
     },
     "execution_count": 35,
     "metadata": {},
     "output_type": "execute_result"
    }
   ],
   "source": [
    "predicted"
   ]
  },
  {
   "cell_type": "markdown",
   "metadata": {},
   "source": [
    "# Visualization"
   ]
  },
  {
   "cell_type": "code",
   "execution_count": 36,
   "metadata": {},
   "outputs": [
    {
     "data": {
      "image/png": "[encoded data removed]",
      "text/plain": [
       "<Figure size 432x288 with 1 Axes>"
      ]
     },
     "metadata": {
      "needs_background": "light"
     },
     "output_type": "display_data"
    }
   ],
   "source": [
    "plt.plot(testcd,color = 'green',label = 'Real number of Covid-19 cases')\n",
    "plt.plot(predicted,color='red',label = 'Predicted number of covid-19 cases')\n",
    "plt.title('Future Forecast of Covid-19 cases')\n",
    "plt.xlabel('Number of Daily cases')\n",
    "plt.ylabel('Number of days')\n",
    "plt.legend()\n",
    "plt.show()"
   ]
  },
  {
   "cell_type": "markdown",
   "metadata": {},
   "source": [
    "# Visualization"
   ]
  },
  {
   "cell_type": "code",
   "execution_count": 37,
   "metadata": {},
   "outputs": [
    {
     "data": {
      "text/plain": [
       "array([[66732],\n",
       "       [55342],\n",
       "       [63509],\n",
       "       [67708],\n",
       "       [63371],\n",
       "       [62212],\n",
       "       [61871],\n",
       "       [55722],\n",
       "       [46790],\n",
       "       [54044]], dtype=object)"
      ]
     },
     "execution_count": 37,
     "metadata": {},
     "output_type": "execute_result"
    }
   ],
   "source": [
    "test = cd[262:272]\n",
    "test = np.array(test)\n",
    "test"
   ]
  },
  {
   "cell_type": "code",
   "execution_count": 38,
   "metadata": {},
   "outputs": [
    {
     "data": {
      "image/png": "[encoded data removed]",
      "text/plain": [
       "<Figure size 432x288 with 1 Axes>"
      ]
     },
     "metadata": {
      "needs_background": "light"
     },
     "output_type": "display_data"
    }
   ],
   "source": [
    "plt.plot(test,color = 'green',label = 'Real number of Covid-19 cases')\n",
    "plt.plot(predicted,color='red',label = 'Predicted number of covid-19 cases')\n",
    "plt.title('Future Forecast of Covid-19 cases')\n",
    "plt.xlabel('Number of Daily cases')\n",
    "plt.ylabel('Number of days')\n",
    "plt.legend()\n",
    "plt.show()"
   ]
  },
  {
   "cell_type": "code",
   "execution_count": 39,
   "metadata": {},
   "outputs": [],
   "source": [
    "com = np.concatenate((test.reshape(len(test),1),predicted.reshape(len(predicted),1)),1)"
   ]
  },
  {
   "cell_type": "code",
   "execution_count": 40,
   "metadata": {},
   "outputs": [
    {
     "data": {
      "text/plain": [
       "array([[66732, 65182.94140625],\n",
       "       [55342, 63805.25390625],\n",
       "       [63509, 65153.7421875],\n",
       "       [67708, 64215.234375],\n",
       "       [63371, 61691.81640625],\n",
       "       [62212, 59743.61328125],\n",
       "       [61871, 57593.3671875],\n",
       "       [55722, 55015.16015625],\n",
       "       [46790, 53727.92578125],\n",
       "       [54044, 54768.72265625]], dtype=object)"
      ]
     },
     "execution_count": 40,
     "metadata": {},
     "output_type": "execute_result"
    }
   ],
   "source": [
    "com"
   ]
  },
  {
   "cell_type": "code",
   "execution_count": 41,
   "metadata": {},
   "outputs": [
    {
     "data": {
      "text/html": [
       "<div>\n",
       "<style scoped>\n",
       "    .dataframe tbody tr th:only-of-type {\n",
       "        vertical-align: middle;\n",
       "    }\n",
       "\n",
       "    .dataframe tbody tr th {\n",
       "        vertical-align: top;\n",
       "    }\n",
       "\n",
       "    .dataframe thead th {\n",
       "        text-align: right;\n",
       "    }\n",
       "</style>\n",
       "<table border=\"1\" class=\"dataframe\">\n",
       "  <thead>\n",
       "    <tr style=\"text-align: right;\">\n",
       "      <th></th>\n",
       "      <th>0</th>\n",
       "      <th>1</th>\n",
       "    </tr>\n",
       "  </thead>\n",
       "  <tbody>\n",
       "    <tr>\n",
       "      <th>0</th>\n",
       "      <td>66732</td>\n",
       "      <td>65182.9</td>\n",
       "    </tr>\n",
       "    <tr>\n",
       "      <th>1</th>\n",
       "      <td>55342</td>\n",
       "      <td>63805.3</td>\n",
       "    </tr>\n",
       "    <tr>\n",
       "      <th>2</th>\n",
       "      <td>63509</td>\n",
       "      <td>65153.7</td>\n",
       "    </tr>\n",
       "    <tr>\n",
       "      <th>3</th>\n",
       "      <td>67708</td>\n",
       "      <td>64215.2</td>\n",
       "    </tr>\n",
       "    <tr>\n",
       "      <th>4</th>\n",
       "      <td>63371</td>\n",
       "      <td>61691.8</td>\n",
       "    </tr>\n",
       "    <tr>\n",
       "      <th>5</th>\n",
       "      <td>62212</td>\n",
       "      <td>59743.6</td>\n",
       "    </tr>\n",
       "    <tr>\n",
       "      <th>6</th>\n",
       "      <td>61871</td>\n",
       "      <td>57593.4</td>\n",
       "    </tr>\n",
       "    <tr>\n",
       "      <th>7</th>\n",
       "      <td>55722</td>\n",
       "      <td>55015.2</td>\n",
       "    </tr>\n",
       "    <tr>\n",
       "      <th>8</th>\n",
       "      <td>46790</td>\n",
       "      <td>53727.9</td>\n",
       "    </tr>\n",
       "    <tr>\n",
       "      <th>9</th>\n",
       "      <td>54044</td>\n",
       "      <td>54768.7</td>\n",
       "    </tr>\n",
       "  </tbody>\n",
       "</table>\n",
       "</div>"
      ],
      "text/plain": [
       "       0        1\n",
       "0  66732  65182.9\n",
       "1  55342  63805.3\n",
       "2  63509  65153.7\n",
       "3  67708  64215.2\n",
       "4  63371  61691.8\n",
       "5  62212  59743.6\n",
       "6  61871  57593.4\n",
       "7  55722  55015.2\n",
       "8  46790  53727.9\n",
       "9  54044  54768.7"
      ]
     },
     "execution_count": 41,
     "metadata": {},
     "output_type": "execute_result"
    }
   ],
   "source": [
    "com = pd.DataFrame(com)\n",
    "com"
   ]
  },
  {
   "cell_type": "code",
   "execution_count": null,
   "metadata": {},
   "outputs": [],
   "source": []
  }
 ],
 "metadata": {
  "kernelspec": {
   "display_name": "Python 3",
   "language": "python",
   "name": "python3"
  },
  "language_info": {
   "codemirror_mode": {
    "name": "ipython",
    "version": 3
   },
   "file_extension": ".py",
   "mimetype": "text/x-python",
   "name": "python",
   "nbconvert_exporter": "python",
   "pygments_lexer": "ipython3",
   "version": "3.7.7"
  }
 },
 "nbformat": 4,
 "nbformat_minor": 4
}
